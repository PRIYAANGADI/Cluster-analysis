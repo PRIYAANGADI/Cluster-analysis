{
  "nbformat": 4,
  "nbformat_minor": 0,
  "metadata": {
    "colab": {
      "provenance": [],
      "authorship_tag": "ABX9TyNbQS4Gt9bpri1kFv9Z6Mhe",
      "include_colab_link": true
    },
    "kernelspec": {
      "name": "python3",
      "display_name": "Python 3"
    },
    "language_info": {
      "name": "python"
    }
  },
  "cells": [
    {
      "cell_type": "markdown",
      "metadata": {
        "id": "view-in-github",
        "colab_type": "text"
      },
      "source": [
        "<a href=\"https://colab.research.google.com/github/PRIYAANGADI/Cluster-analysis/blob/main/KNN_project_3.ipynb\" target=\"_parent\"><img src=\"https://colab.research.google.com/assets/colab-badge.svg\" alt=\"Open In Colab\"/></a>"
      ]
    },
    {
      "cell_type": "code",
      "source": [
        "from sklearn.preprocessing import StandardScaler, OneHotEncoder\n",
        "from sklearn.compose import ColumnTransformer\n",
        "from sklearn.pipeline import Pipeline\n",
        "from sklearn.impute import SimpleImputer\n",
        "from sklearn.linear_model import LogisticRegression\n",
        "from sklearn.model_selection import train_test_split\n",
        "from sklearn.pipeline import make_pipeline\n",
        "import pandas as pd\n",
        "\n",
        "\n"
      ],
      "metadata": {
        "id": "ACiPtqnQ2UcU"
      },
      "execution_count": 104,
      "outputs": []
    },
    {
      "cell_type": "code",
      "source": [
        "import pandas as pd\n",
        "from sklearn.model_selection import train_test_split\n",
        "from sklearn.pipeline import make_pipeline\n",
        "from sklearn.preprocessing import StandardScaler\n",
        "from sklearn.neighbors import KNeighborsClassifier\n",
        "\n",
        "# 1) Load data\n",
        "df = pd.read_csv(\"/content/train.csv\")\n",
        "print(df.shape)\n",
        "FEATURES = ['ram','fc','dual_sim','battery_power']\n",
        "TARGET   = 'price_range'\n",
        "X, y = df[FEATURES], df[TARGET]\n",
        "\n",
        "# 2) Split (stratified)\n",
        "X_train, X_test, y_train, y_test = train_test_split(\n",
        "    X, y, test_size=.2, stratify=y, random_state=19\n",
        ")\n",
        "\n",
        "# 3) Pipeline: scale -> KNN (choose k; here 23 as you used earlier)\n",
        "pipe1 = make_pipeline(\n",
        "    StandardScaler(),\n",
        "    KNeighborsClassifier(n_neighbors=23)\n",
        ")\n",
        "\n",
        "# 4) Fit & evaluate\n",
        "pipe1.fit(X_train, y_train)\n",
        "print(\"Train accuracy:\", pipe1.score(X_train, y_train))\n",
        "print(\"Test  accuracy:\", pipe1.score(X_test,  y_test))\n"
      ],
      "metadata": {
        "colab": {
          "base_uri": "https://localhost:8080/"
        },
        "id": "Mhi1CbSzQGdB",
        "outputId": "f15fd4cd-b86e-49cf-d463-68aa3c5b3a83"
      },
      "execution_count": 105,
      "outputs": [
        {
          "output_type": "stream",
          "name": "stdout",
          "text": [
            "(2000, 21)\n",
            "Train accuracy: 0.829375\n",
            "Test  accuracy: 0.805\n"
          ]
        }
      ]
    },
    {
      "cell_type": "code",
      "source": [
        "test = pd.read_csv(\"/content/test.csv\")\n",
        "print(test.shape)\n",
        "missing = [c for c in FEATURES if c not in test.columns]\n",
        "if missing:\n",
        "    raise ValueError(f\"Missing columns in test: {missing}\")\n",
        "y_pred = pipe1.predict(test[FEATURES])\n",
        "y_pred\n"
      ],
      "metadata": {
        "colab": {
          "base_uri": "https://localhost:8080/"
        },
        "id": "pnNZV91lQMv5",
        "outputId": "54397ff7-f263-430b-de59-5ecb92c0df88"
      },
      "execution_count": 106,
      "outputs": [
        {
          "output_type": "stream",
          "name": "stdout",
          "text": [
            "(1000, 21)\n"
          ]
        },
        {
          "output_type": "execute_result",
          "data": {
            "text/plain": [
              "array([2, 3, 2, 3, 1, 3, 3, 0, 2, 0, 3, 3, 0, 0, 2, 0, 1, 1, 3, 2, 0, 3,\n",
              "       1, 1, 3, 0, 2, 0, 3, 0, 2, 1, 3, 0, 0, 1, 3, 1, 2, 1, 1, 2, 0, 0,\n",
              "       0, 1, 0, 2, 1, 2, 2, 0, 2, 0, 3, 1, 3, 1, 1, 3, 3, 3, 0, 2, 1, 1,\n",
              "       1, 2, 1, 1, 1, 2, 2, 3, 3, 0, 2, 0, 2, 3, 0, 3, 3, 0, 3, 0, 3, 1,\n",
              "       3, 0, 1, 1, 3, 0, 2, 2, 0, 2, 1, 3, 1, 0, 0, 3, 1, 2, 0, 1, 2, 3,\n",
              "       3, 2, 1, 3, 3, 3, 3, 2, 3, 0, 0, 3, 2, 1, 2, 0, 3, 3, 2, 1, 0, 2,\n",
              "       2, 1, 3, 1, 2, 0, 3, 2, 1, 3, 2, 2, 3, 3, 3, 3, 1, 3, 3, 3, 0, 0,\n",
              "       3, 2, 3, 3, 3, 3, 2, 2, 3, 2, 3, 3, 1, 0, 3, 0, 0, 0, 1, 0, 0, 1,\n",
              "       0, 0, 1, 2, 1, 0, 0, 0, 2, 2, 2, 0, 0, 0, 0, 0, 1, 3, 2, 1, 2, 2,\n",
              "       2, 3, 1, 2, 3, 2, 3, 1, 1, 1, 0, 0, 1, 2, 1, 2, 3, 3, 0, 2, 0, 3,\n",
              "       2, 3, 3, 1, 0, 1, 0, 3, 0, 1, 0, 2, 2, 1, 3, 0, 3, 0, 3, 1, 2, 0,\n",
              "       0, 2, 0, 3, 2, 3, 1, 2, 3, 0, 0, 3, 3, 3, 1, 3, 1, 0, 3, 2, 1, 2,\n",
              "       3, 3, 3, 1, 0, 1, 2, 2, 1, 1, 3, 2, 0, 3, 0, 1, 2, 0, 0, 3, 3, 3,\n",
              "       3, 3, 1, 3, 2, 2, 3, 2, 2, 1, 1, 0, 2, 3, 1, 0, 0, 3, 0, 3, 0, 1,\n",
              "       2, 0, 1, 3, 1, 3, 2, 2, 0, 2, 0, 0, 0, 0, 3, 1, 0, 0, 0, 3, 2, 0,\n",
              "       3, 3, 0, 3, 3, 2, 3, 1, 3, 3, 2, 2, 3, 3, 3, 0, 3, 0, 3, 1, 3, 1,\n",
              "       3, 2, 0, 1, 0, 3, 1, 3, 2, 3, 0, 0, 0, 0, 2, 0, 0, 1, 1, 1, 2, 3,\n",
              "       2, 0, 1, 0, 0, 3, 3, 0, 2, 1, 2, 2, 1, 2, 3, 1, 1, 3, 2, 1, 2, 0,\n",
              "       0, 0, 0, 3, 2, 1, 0, 1, 0, 0, 1, 1, 0, 0, 0, 2, 2, 3, 1, 3, 0, 3,\n",
              "       1, 3, 1, 2, 1, 1, 1, 0, 2, 2, 3, 2, 1, 3, 1, 3, 1, 3, 2, 1, 2, 2,\n",
              "       1, 1, 0, 0, 1, 1, 2, 1, 1, 3, 2, 1, 2, 2, 0, 0, 2, 2, 1, 0, 3, 2,\n",
              "       3, 0, 3, 0, 2, 3, 2, 3, 0, 1, 0, 2, 2, 0, 1, 1, 0, 0, 1, 1, 2, 3,\n",
              "       3, 2, 2, 3, 1, 1, 2, 2, 3, 3, 2, 1, 2, 2, 2, 2, 1, 0, 2, 2, 0, 0,\n",
              "       0, 3, 1, 1, 3, 2, 2, 0, 3, 0, 2, 2, 0, 3, 0, 2, 3, 1, 1, 1, 3, 3,\n",
              "       1, 0, 2, 3, 3, 0, 2, 1, 3, 0, 3, 3, 1, 2, 3, 2, 3, 0, 1, 2, 3, 1,\n",
              "       3, 2, 3, 1, 0, 1, 0, 3, 1, 0, 3, 2, 3, 2, 0, 2, 3, 3, 2, 3, 3, 1,\n",
              "       2, 1, 3, 3, 3, 0, 1, 1, 1, 1, 2, 2, 0, 0, 2, 2, 3, 1, 0, 2, 1, 3,\n",
              "       3, 0, 1, 3, 0, 2, 1, 1, 0, 0, 1, 0, 0, 1, 1, 2, 2, 0, 2, 3, 1, 0,\n",
              "       3, 1, 0, 3, 2, 0, 0, 1, 0, 0, 3, 0, 3, 0, 3, 2, 1, 3, 2, 0, 2, 1,\n",
              "       3, 1, 3, 2, 0, 3, 0, 2, 0, 2, 0, 1, 1, 0, 1, 2, 1, 3, 0, 3, 2, 2,\n",
              "       1, 3, 2, 0, 2, 2, 0, 3, 3, 0, 2, 1, 1, 2, 0, 3, 2, 0, 3, 2, 3, 0,\n",
              "       0, 3, 0, 1, 2, 3, 1, 2, 2, 2, 1, 2, 3, 0, 1, 1, 1, 2, 1, 0, 0, 1,\n",
              "       0, 0, 2, 1, 1, 1, 0, 1, 1, 0, 3, 0, 3, 3, 3, 0, 0, 1, 2, 2, 1, 0,\n",
              "       1, 2, 0, 1, 1, 0, 0, 3, 3, 1, 3, 1, 2, 3, 0, 1, 0, 2, 2, 0, 3, 1,\n",
              "       0, 3, 1, 1, 0, 2, 3, 3, 2, 3, 0, 3, 2, 0, 1, 1, 3, 3, 2, 1, 1, 1,\n",
              "       2, 1, 0, 3, 3, 1, 3, 1, 2, 1, 1, 1, 3, 1, 1, 2, 2, 0, 0, 1, 2, 0,\n",
              "       2, 0, 0, 0, 0, 3, 3, 3, 3, 0, 1, 2, 1, 1, 0, 0, 2, 1, 0, 2, 0, 2,\n",
              "       2, 2, 1, 2, 0, 2, 1, 3, 0, 0, 3, 1, 3, 0, 0, 2, 2, 3, 1, 2, 2, 1,\n",
              "       0, 0, 2, 3, 0, 3, 0, 0, 1, 2, 2, 1, 2, 0, 3, 2, 1, 2, 3, 3, 0, 1,\n",
              "       1, 2, 0, 3, 2, 0, 1, 3, 1, 2, 3, 1, 2, 3, 1, 1, 1, 2, 3, 3, 0, 2,\n",
              "       3, 0, 2, 3, 2, 2, 2, 3, 2, 0, 1, 2, 1, 2, 1, 1, 1, 3, 2, 1, 2, 0,\n",
              "       1, 1, 3, 1, 0, 1, 1, 3, 1, 0, 0, 2, 2, 2, 3, 0, 3, 3, 2, 1, 3, 0,\n",
              "       0, 2, 1, 2, 1, 1, 2, 2, 0, 3, 0, 2, 2, 0, 2, 1, 2, 2, 1, 1, 2, 3,\n",
              "       1, 0, 1, 1, 2, 1, 2, 0, 2, 2, 0, 2, 3, 3, 3, 0, 2, 0, 0, 2, 2, 3,\n",
              "       3, 0, 3, 2, 2, 1, 2, 0, 1, 3, 0, 1, 0, 0, 3, 2, 2, 0, 1, 0, 0, 3,\n",
              "       2, 3, 2, 0, 0, 2, 1, 1, 2, 2])"
            ]
          },
          "metadata": {},
          "execution_count": 106
        }
      ]
    }
  ]
}